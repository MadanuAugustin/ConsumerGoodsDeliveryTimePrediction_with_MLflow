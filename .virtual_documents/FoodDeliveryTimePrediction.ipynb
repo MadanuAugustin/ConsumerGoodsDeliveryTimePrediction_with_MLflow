





import pandas as pd
import numpy as np
import seaborn as sns
import matplotlib.pyplot as plt
%matplotlib inline
import warnings
warnings.filterwarnings('ignore')
import plotly.express as px


pd.set_option('display.max_row', 10000)
pd.set_option('display.max_columns', 10000)








data = pd.read_csv('Delivery-time/Delivery time/deliverytime.txt')


data.head()


data.to_csv('Delivery-time//fooddeliverytimeprediction.csv', header = True)








data.shape


data.info()





data.describe().T





data.isnull().sum()





data.duplicated().sum()








### First we are going to set the Earth radius to 6371 km

Earth_radius = 6371





### converting degrees to radians

def deg_to_rad(degrees):
    return degrees * (np.pi/180)





### Function to calculate the distance between two points using the haversine formula

def distance_calculate(lat1, long1, lat2, long2):
    d_lat = deg_to_rad(lat2 - lat1)
    d_long = deg_to_rad(long2 - long1)
    haversine_formula = np.sin(d_lat/2)**2 + np.cos(deg_to_rad(lat1)) * np.cos(deg_to_rad(lat2)) * np.sin(d_long/2)**2
    c = 2 * np.arctan2(np.sqrt(haversine_formula), np.sqrt(1-haversine_formula))
    return Earth_radius * c





### Calculate the distance between each pair of points from the dataset


for i in range(len(data)):
    data.loc[i, 'Distance'] = distance_calculate(data.loc[i, 'Restaurant_latitude'], data.loc[i, 'Restaurant_longitude'],
                                                 data.loc[i, 'Delivery_location_latitude'], data.loc[i, 'Delivery_location_longitude'])





data.head()


#### From the above data we can notice that a new feature is created which is our Distance












px.scatter(data_frame = data, x = 'Distance', y = 'Time_taken(min)', trendline = 'ols')












px.scatter(data_frame = data , x = 'Delivery_person_Age', y = 'Time_taken(min)', trendline = 'ols')











px.scatter(data_frame = data, x = 'Delivery_person_Ratings', y = 'Time_taken(min)', trendline = 'ols')











px.box(data_frame = data, x = 'Type_of_vehicle', y = 'Time_taken(min)', color = 'Type_of_order')














x = data[['Delivery_person_Age', 'Delivery_person_Ratings', 'Distance']]


y = data[['Time_taken(min)']]








from sklearn.model_selection import train_test_split


X_train, X_test, y_train, y_test = train_test_split(x, y , test_size = 0.2)


X_train.shape, X_test.shape, y_train.shape, y_test.shape








from keras.models import Sequential
from keras.layers import Dense, LSTM


model = Sequential()
model.add(LSTM(128, return_sequences = True, input_shape = (X_train.shape[1], 1)))
model.add(LSTM(64, return_sequences = False))
model.add(Dense(25))
model.add(Dense(1))
model.summary()








model.compile(optimizer = 'adam', loss = 'mean_squared_error')
history = model.fit(X_train, y_train, batch_size = 1, epochs = 9)










plt.plot(history.history['loss'], label='MSE (training data)')
plt.title('Loss Vs Epochs')
plt.ylabel('MSE')
plt.xlabel('Epochs')
plt.legend(loc="upper left")
plt.show()








model.predict([[37, 4.9, 3.025149]])









